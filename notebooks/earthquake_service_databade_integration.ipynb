{
 "cells": [
  {
   "cell_type": "code",
   "execution_count": 1,
   "id": "901f48ad-d86c-4bf8-bd5d-c35413422e55",
   "metadata": {},
   "outputs": [],
   "source": [
    "%load_ext autoreload\n",
    "%autoreload 2"
   ]
  },
  {
   "cell_type": "code",
   "execution_count": 2,
   "id": "63f7f229-3038-433f-a377-ece19be3bd89",
   "metadata": {},
   "outputs": [],
   "source": [
    "import sys\n",
    "import os\n",
    "from datetime import datetime\n",
    "import sqlite3\n",
    "\n",
    "src_path = os.path.abspath(os.path.join(os.getcwd(), '..', 'src'))\n",
    "sys.path.append(src_path)\n",
    "\n",
    "from quakefeed.earthquake_service import EarthquakeService, EarthquakeDataHandler\n",
    "from quakefeed.setup_database import setup_database"
   ]
  },
  {
   "cell_type": "code",
   "execution_count": 4,
   "id": "ba1255bf-9707-4a3e-8827-d3356bdce75e",
   "metadata": {},
   "outputs": [],
   "source": [
    "earthquake_database_path='../data/earthquake_data.db'"
   ]
  },
  {
   "cell_type": "code",
   "execution_count": 14,
   "id": "ab307db0-5b31-45a1-be54-eabb412737ce",
   "metadata": {},
   "outputs": [],
   "source": [
    "service = EarthquakeService(\n",
    "    lat_min=None, \n",
    "    lat_max=None, \n",
    "    lon_min=None, \n",
    "    lon_max=None, \n",
    "    min_magnitude=7.0, \n",
    "    event_type='earthquake'\n",
    ")\n",
    "handler = EarthquakeDataHandler(db_name=earthquake_database_path)\n"
   ]
  },
  {
   "cell_type": "code",
   "execution_count": 20,
   "id": "736fb370-6e10-46ac-9473-1a907e687c54",
   "metadata": {},
   "outputs": [],
   "source": [
    "df = service.search_earthquakes(\n",
    "    start_time=datetime(2018, 1, 1), \n",
    "    end_time=datetime.now(), \n",
    "    limit=50)\n",
    "df = service.add_maxpga_column(df)\n",
    "df = service.format_dataframe(df)"
   ]
  },
  {
   "cell_type": "code",
   "execution_count": 21,
   "id": "5395ecf4-f94d-4109-bbd2-e531448ed128",
   "metadata": {},
   "outputs": [
    {
     "name": "stdout",
     "output_type": "stream",
     "text": [
      "Inserted 33 new records into the earthquakes table.\n"
     ]
    }
   ],
   "source": [
    "handler.insert_data_to_db(df)"
   ]
  },
  {
   "cell_type": "code",
   "execution_count": 22,
   "id": "9bd407ae-bf66-4362-a435-a4087326d408",
   "metadata": {},
   "outputs": [
    {
     "name": "stdout",
     "output_type": "stream",
     "text": [
      "Last item in earthquakes table:\n",
      "(53, 'us6000f65h', '2021-08-14', '12:29:08.454000', 18.4335, -73.4822, 10.0, 7.2, 0.781, 'Nippes, Haiti', 'https://earthquake.usgs.gov/earthquakes/eventpage/us6000f65h')\n",
      "Last item in changes_log table:\n",
      "(53, 53, 0)\n"
     ]
    }
   ],
   "source": [
    "handler.view_last_item()\n"
   ]
  },
  {
   "cell_type": "code",
   "execution_count": 23,
   "id": "da65c2ff-d714-4f89-8202-8d8453b5f8d4",
   "metadata": {},
   "outputs": [
    {
     "name": "stdout",
     "output_type": "stream",
     "text": [
      "Start downloading images for (55.3635, -157.8876) and (2021-07-29)\n",
      "Start downloading images for (-18.1125, -178.153) and (2018-08-19)\n",
      "Start downloading images for (-58.3753, -25.2637) and (2021-08-12)\n",
      "Start downloading images for (-29.7228, -177.2794) and (2021-03-04)\n",
      "Start downloading images for (-5.8119, -75.2697) and (2019-05-26)\n",
      "Start downloading images for (56.0039, -149.1658) and (2018-01-23)\n",
      "Start downloading images for (-18.4743, 179.3502) and (2018-09-06)\n",
      "Start downloading images for (55.0715, -158.596) and (2020-07-22)\n",
      "Start downloading images for (-23.0511, 171.6566) and (2021-02-10)\n",
      "Start downloading images for (19.4193, -78.756) and (2020-01-28)\n",
      "Start downloading images for (-4.051, 152.5967) and (2019-05-14)\n",
      "Start downloading images for (54.602, -159.6258) and (2020-10-19)\n",
      "Start downloading images for (-4.4667, -76.8126) and (2021-11-28)\n",
      "Start downloading images for (-57.5674, -25.0316) and (2021-08-12)\n",
      "Start downloading images for (48.9638, 157.6955) and (2020-03-25)\n",
      "Start downloading images for (-0.2559, 119.8462) and (2018-09-28)\n",
      "Start downloading images for (-21.9496, 169.4266) and (2018-12-05)\n",
      "Start downloading images for (-6.0699, 142.7536) and (2018-02-25)\n",
      "Start downloading images for (17.4825, -83.52) and (2018-01-10)\n",
      "Start downloading images for (-2.1862, -77.0505) and (2019-02-22)\n",
      "Start downloading images for (-29.6768, -177.8398) and (2021-03-04)\n",
      "Start downloading images for (15.8861, -96.0077) and (2020-06-23)\n",
      "Start downloading images for (-33.2927, -177.8571) and (2020-06-18)\n",
      "Start downloading images for (-7.5482, 127.5773) and (2021-12-29)\n",
      "Start downloading images for (-7.6033, 122.2274) and (2021-12-14)\n",
      "Start downloading images for (-21.1265, 174.8958) and (2021-10-02)\n",
      "Start downloading images for (34.5983, 98.2513) and (2021-05-21)\n",
      "Start downloading images for (-37.4787, 179.4576) and (2021-03-04)\n",
      "Start downloading images for (-6.4078, 129.1692) and (2019-06-24)\n",
      "Start downloading images for (-30.6441, -178.0995) and (2019-06-15)\n",
      "Start downloading images for (10.7731, -62.9019) and (2018-08-21)\n",
      "Start downloading images for (55.0999, 164.6993) and (2018-12-20)\n",
      "Start downloading images for (18.4335, -73.4822) and (2021-08-14)\n"
     ]
    }
   ],
   "source": [
    "handler.process_changes()"
   ]
  },
  {
   "cell_type": "code",
   "execution_count": 24,
   "id": "b7cf0977-1dd6-4fae-942e-5514c5a69351",
   "metadata": {},
   "outputs": [
    {
     "name": "stdout",
     "output_type": "stream",
     "text": [
      "Last item in earthquakes table:\n",
      "(53, 'us6000f65h', '2021-08-14', '12:29:08.454000', 18.4335, -73.4822, 10.0, 7.2, 0.781, 'Nippes, Haiti', 'https://earthquake.usgs.gov/earthquakes/eventpage/us6000f65h')\n",
      "Last item in changes_log table:\n",
      "(53, 53, 1)\n"
     ]
    }
   ],
   "source": [
    "handler.view_last_item()\n"
   ]
  },
  {
   "cell_type": "code",
   "execution_count": null,
   "id": "aa19fff8-5035-4628-a726-f828e40e3a5b",
   "metadata": {},
   "outputs": [],
   "source": []
  }
 ],
 "metadata": {
  "kernelspec": {
   "display_name": "Python 3 (ipykernel)",
   "language": "python",
   "name": "python3"
  },
  "language_info": {
   "codemirror_mode": {
    "name": "ipython",
    "version": 3
   },
   "file_extension": ".py",
   "mimetype": "text/x-python",
   "name": "python",
   "nbconvert_exporter": "python",
   "pygments_lexer": "ipython3",
   "version": "3.11.5"
  }
 },
 "nbformat": 4,
 "nbformat_minor": 5
}
